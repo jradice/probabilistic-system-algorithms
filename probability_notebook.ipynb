{
 "cells": [
  {
   "cell_type": "markdown",
   "metadata": {},
   "source": [
    "# Assignment 3: Probabilistic modeling\n",
    "\n",
    "In this assignment, you will work with probabilistic models known as Bayesian networks to efficiently calculate the answer to probability questions concerning discrete random variables.\n",
    "\n",
    "To help, we've provided a package called [pbnt] that supports the representation of Bayesian networks and automatic inference of marginal probabilities. Note that you need numpy to run pbnt.\n",
    "\n",
    "This assignment is due on T-Square by October 11th, 11:59PM UTC-12. Please submit your solution as probability_solution.py."
   ]
  },
  {
   "cell_type": "markdown",
   "metadata": {},
   "source": [
    "**Warning**\n",
    "-----\n",
    "\n",
    "Due to compatibility bugs in pbnt, **this assignment requires Python 2.7 to run, which in turn requires iPython2.** So you should run this notebook using\n",
    "\n",
    "    ipython2 notebook probability_notebook.ipynb\n",
    "\n",
    "If you don't have iPython2 installed, you can download it [here](https://github.com/ipython/ipython/archive/rel-2.4.1.zip), unzip it, and install it using\n",
    "\n",
    "    python setup.py install\n",
    "\n",
    "If you don't have iPython2 installed and you don't want to have more than one version installed, you can set it up using a virtual environment (virtualenv). \n",
    "\n",
    "You can find instructions on how to set up a virtualenv under the following links:\n",
    "\n",
    "- [Windows users](http://www.tylerbutler.com/2012/05/how-to-install-python-pip-and-virtualenv-on-windows-with-powershell/) (TL;DR use PowerShell)\n",
    "- [Linux/Mac users](https://virtualenv.pypa.io/en/latest/installation.html) (TL;DR use pip if you can)\n",
    "\n",
    "Once you have virtualenv installed, you should navigate to the directory containing probability_notebook.ipynb and run the command\n",
    "\n",
    "    virtualenv .\n",
    "    \n",
    "which will create a subdirectory called \"bin\" which contains scripts to run the virtual environment. You'll then call\n",
    "\n",
    "    source bin/activate\n",
    "    \n",
    "to activate the virtualenv. You'll see that your command line now looks something like this:\n",
    "\n",
    "    (assignment_3)my-laptop:probability_assignment user_name$\n",
    "\n",
    "From here, you can install iPython2 to your local directory by running the command\n",
    "\n",
    "    pip2.7 install \"ipython [notebook]\"\n",
    "    \n",
    "and then you'll be able to open probability_notebook.ipynb using iPython2.\n",
    "\n",
    "Whenever you want to quit your virtual environment, just type\n",
    "\n",
    "    deactivate\n",
    "    \n",
    "and you can reactivate the environment later with the same command you used before. If you ever want to get rid of the virtualenv files entirely, just delete the \"bin\" folder."
   ]
  },
  {
   "cell_type": "code",
   "execution_count": 1,
   "metadata": {
    "collapsed": false
   },
   "outputs": [
    {
     "name": "stdout",
     "output_type": "stream",
     "text": [
      "('The marginal probability of sprinkler=false:', 0.80102921)\n",
      "('The marginal probability of wetgrass=false | cloudy=False, rain=True:', 0.055)\n"
     ]
    }
   ],
   "source": [
    "\"\"\"Testing pbnt. Run this before anything else to get pbnt to work!\"\"\"\n",
    "import sys\n",
    "if('pbnt/combined' not in sys.path):\n",
    "    sys.path.append('pbnt/combined')\n",
    "from exampleinference import inferenceExample\n",
    "import numpy as np\n",
    "import warnings\n",
    "warnings.filterwarnings(\"ignore\", category=np.VisibleDeprecationWarning)\n",
    "\n",
    "inferenceExample()\n",
    "# Should output:\n",
    "# ('The marginal probability of sprinkler=false:', 0.80102921)\n",
    "#('The marginal probability of wetgrass=false | cloudy=False, rain=True:', 0.055)"
   ]
  },
  {
   "cell_type": "markdown",
   "metadata": {},
   "source": [
    "Part 1: Bayesian network tutorial\n",
    "-------\n",
    "35 points total\n",
    "\n",
    "To start, design a basic probabilistic model for the following system:\n",
    "\n",
    "There's a nuclear power plant in which an alarm is supposed to ring when the core temperature, indicated by a gauge, exceeds a fixed threshold. For simplicity, we assume that the temperature is represented as either high or normal. However, the alarm is sometimes faulty, and the gauge is more likely to fail when the temperature is high. Use the following Boolean variables in your implementation:\n",
    "\n",
    "- A = alarm sounds\n",
    "- F<sub>A</sub> = alarm is faulty\n",
    "- G = gauge reading (high = True, normal = False)\n",
    "- F<sub>G</sub> = gauge is faulty\n",
    "- T = actual temperature (high = True, normal = False)\n",
    "\n",
    "You will test your implementation at the end of the section."
   ]
  },
  {
   "cell_type": "markdown",
   "metadata": {},
   "source": [
    "1a: Casting the net\n",
    "--\n",
    "10 points\n",
    "\n",
    "Design a Bayesian network for this system, using pbnt to represent the nodes and conditional probability arcs connecting nodes. Don't worry about the probabilities for now. Fill out the function below to create the net.\n",
    "\n",
    "The following command will create a BayesNode with 2 values, an id of 0 and the name \"alarm\":\n",
    "\n",
    "    A_node = BayesNode(0,2,name='alarm')\n",
    "\n",
    "NOTE: Do not use any special characters(like $,_,-) for the name parameter.\n",
    "\n",
    "You will use BayesNode.add\\_parent() and BayesNode.add\\_child() to connect nodes. For example, to connect the alarm and temperature nodes that you've already made (i.e. assuming that temperature affects the alarm probability):\n",
    "\n",
    "    A_node.add_parent(T_node)\n",
    "    T_node.add_child(A_node)\n",
    "    \n",
    "You can run probability\\_tests.network\\_setup\\_test() to make sure your network is set up correctly."
   ]
  },
  {
   "cell_type": "markdown",
   "metadata": {},
   "source": [
    "       Hint : Checkout ExampleModels.py under pbnt/combined "
   ]
  },
  {
   "cell_type": "code",
   "execution_count": 2,
   "metadata": {
    "collapsed": true
   },
   "outputs": [],
   "source": [
    "from Node import BayesNode\n",
    "from Graph import BayesNet\n",
    "def make_power_plant_net():\n",
    "    \"\"\"Create a Bayes Net representation of the above power plant problem. \n",
    "    Use the following as the name attribute: \"alarm\",\"faulty alarm\", \"gauge\",\"faulty gauge\", \"temperature\". (for the tests to work.)\n",
    "    \"\"\"\n",
    "    nodes = []\n",
    "    # TODO: finish this function\n",
    "    A_node = BayesNode(0, 2, name=\"alarm\")\n",
    "    Fa_node = BayesNode(1, 2, name=\"faulty alarm\")\n",
    "    G_node = BayesNode(2, 2, name=\"gauge\")\n",
    "    Fg_node = BayesNode(3, 2, name=\"faulty gauge\")\n",
    "    T_node = BayesNode(4, 2, name=\"temperature\")\n",
    "    \n",
    "    A_node.add_parent(Fa_node)\n",
    "    Fa_node.add_child(A_node)\n",
    "    \n",
    "    A_node.add_parent(G_node)\n",
    "    G_node.add_child(A_node)\n",
    "    \n",
    "    G_node.add_parent(Fg_node)\n",
    "    Fg_node.add_child(G_node)\n",
    "    \n",
    "    G_node.add_parent(T_node)\n",
    "    T_node.add_child(G_node)\n",
    "    \n",
    "    Fg_node.add_parent(T_node)\n",
    "    T_node.add_child(Fg_node)\n",
    "    \n",
    "    nodes = [A_node, Fa_node, G_node, Fg_node, T_node]\n",
    "    \n",
    "    return BayesNet(nodes)"
   ]
  },
  {
   "cell_type": "code",
   "execution_count": 3,
   "metadata": {
    "collapsed": false
   },
   "outputs": [
    {
     "name": "stdout",
     "output_type": "stream",
     "text": [
      "correct number of nodes\n",
      "correct number of edges between nodes\n"
     ]
    }
   ],
   "source": [
    "from probability_tests import network_setup_test\n",
    "power_plant = make_power_plant_net()\n",
    "network_setup_test(power_plant)"
   ]
  },
  {
   "cell_type": "markdown",
   "metadata": {},
   "source": [
    "1b: Polytrees\n",
    "--\n",
    "5 points\n",
    "\n",
    "Is the network for the power plant system a polytree? Why or why not? Choose from the following answers."
   ]
  },
  {
   "cell_type": "code",
   "execution_count": 4,
   "metadata": {
    "collapsed": true
   },
   "outputs": [],
   "source": [
    "def is_polytree():\n",
    "    \"\"\"Multiple choice  question about polytrees.\"\"\"\n",
    "    \n",
    "    # TODO: make a choice!\n",
    "    choice = 'c'\n",
    "    answers = {\n",
    "        'a' : 'Yes, because it can be decomposed into multiple sub-trees.',\n",
    "        'b' : 'Yes, because its underlying undirected graph is a tree.',\n",
    "        'c' : 'No, because its underlying undirected graph is not a tree.',\n",
    "        'd' : 'No, because it cannot be decomposed into multiple sub-trees.'\n",
    "    }\n",
    "    return answers[choice]"
   ]
  },
  {
   "cell_type": "markdown",
   "metadata": {},
   "source": [
    "1c: Setting the probabilities\n",
    "---\n",
    "10 points\n",
    "\n",
    "Assume that the following statements about the system are true:\n",
    "\n",
    "1. The temperature gauge reads the correct temperature with 95% probability when it is not faulty and 20% probability when it is faulty. For simplicity, say that the gauge's \"true\" value corresponds with its \"hot\" reading and \"false\" with its \"normal\" reading, so the gauge would have a 95% chance of returning \"true\" when the temperature is hot and it is not faulty.\n",
    "2. The alarm is faulty 15% of the time.\n",
    "3. The temperature is hot (call this \"true\") 20% of the time.\n",
    "4. When the temperature is hot, the gauge is faulty 80% of the time. Otherwise, the gauge is faulty 5% of the time.\n",
    "5. The alarm responds correctly to the gauge 55% of the time when the alarm is faulty, and it responds correctly to the gauge 90% of the time when the alarm is not faulty. For instance, when it is faulty, the alarm sounds 55% of the time that the gauge is \"hot\" and remains silent 55% of the time that the gauge is \"normal.\"\n",
    "\n",
    "Knowing these facts, set the conditional probabilities for the necessary variables on the network you just built.\n",
    "\n",
    "Using pbnt's Distribution class: if you wanted to set the distribution for P(A) to 70% true, 30% false, you would invoke the following commands:\n",
    "\n",
    "    A_distribution = DiscreteDistribution(A_node)\n",
    "    index = A_distribution.generate_index([],[])\n",
    "    A_distribution[index] = [0.3,0.7]\n",
    "    A_Node.set_dist(A_distribution)\n",
    "\n",
    "REMEMBER: UDE INDEX 0 FOR FALSE IN THE CODE.\n",
    "\n",
    "If you wanted to set the distribution for P(A|G) to be\n",
    "\n",
    "|$G$|$P(A=true| G)$|\n",
    "|------|-----|\n",
    "|T| 0.75|\n",
    "|F| 0.85| \n",
    "\n",
    "you would invoke:\n",
    "\n",
    "    from numpy import zeros, float32\n",
    "    dist = zeros([G_node.size(), A_node.size()], dtype=float32)   #Note the order of G_node, A_node\n",
    "    dist[0,:] = [0.15, 0.85]\n",
    "    dist[1,:] = [0.25, 0.75]\n",
    "    A_distribution = ConditionalDiscreteDistribution(nodes=[G_node,A_node], table=dist)\n",
    "    A_node.set_dist(A_distribution)\n",
    "\n",
    "Modeling a three-variable relationship is a bit trickier. If you wanted to set the following distribution for $P(A|G,T)$ to be\n",
    "\n",
    "|$G$|$T$|$P(A=true| G, T)$|\n",
    "|--|--|:----:|\n",
    "|T|T|0.15|\n",
    "|T|F|0.6|\n",
    "|F|T|0.2|\n",
    "|F|F|0.1|\n",
    "\n",
    "you would invoke:\n",
    "\n",
    "    from numpy import zeros, float32\n",
    "    dist = zeros([G_node.size(), T_node.size(), A_node.size()], dtype=float32)\n",
    "    dist[0,0,:] = [0.9, 0.1]\n",
    "    dist[0,1,:] = [0.8, 0.2]\n",
    "    dist[1,0,:] = [0.4, 0.6]\n",
    "    dist[1,1,:] = [0.85, 0.15]\n",
    "    \n",
    "    A_distribution = ConditionalDiscreteDistribution(nodes=[G_node, T_node, A_node], table=dist)\n",
    "    A_node.set_dist(A_distribution)\n",
    "\n",
    "The key is to remember that 0 represents the index of the false probability, and 1 represents true."
   ]
  },
  {
   "cell_type": "markdown",
   "metadata": {},
   "source": [
    "       Hint : Checkout example_inference.py under pbnt/combined "
   ]
  },
  {
   "cell_type": "code",
   "execution_count": 14,
   "metadata": {
    "collapsed": true
   },
   "outputs": [],
   "source": [
    "from numpy import zeros, float32\n",
    "import Distribution\n",
    "from Distribution import DiscreteDistribution, ConditionalDiscreteDistribution\n",
    "def set_probability(bayes_net):\n",
    "    \"\"\"Set probability distribution for each node in the power plant system.\"\"\"\n",
    "    \n",
    "    A_node = bayes_net.get_node_by_name(\"alarm\")\n",
    "    F_A_node = bayes_net.get_node_by_name(\"faulty alarm\")\n",
    "    G_node = bayes_net.get_node_by_name(\"gauge\")\n",
    "    F_G_node = bayes_net.get_node_by_name(\"faulty gauge\")\n",
    "    T_node = bayes_net.get_node_by_name(\"temperature\")\n",
    "    nodes = [A_node, F_A_node, G_node, F_G_node, T_node]\n",
    "    # TODO: set the probability distribution for each node\n",
    "    # 1. Gauge Probability Distribution\n",
    "    # T | Fg | P(G | T, Fg)\n",
    "    # F | F  | 0.05\n",
    "    # F | T  | 0.8\n",
    "    # T | F  | 0.95\n",
    "    # T | T  | 0.2\n",
    "    dist = zeros([T_node.size(), F_G_node.size(), G_node.size()], dtype=float32)\n",
    "    dist[0,0,:] = [0.95, 0.05]\n",
    "    dist[0,1,:] = [0.2, 0.8]\n",
    "    dist[1,0,:] = [0.05, 0.95]\n",
    "    dist[1,1,:] = [0.8, 0.2]\n",
    "    G_distribution = ConditionalDiscreteDistribution(nodes=[T_node, F_G_node, G_node],\n",
    "                                                     table=dist)\n",
    "    G_node.set_dist(G_distribution)\n",
    "    # 2. Faulty Alarm Probability Distribution\n",
    "    # P(Fa) = 0.15\n",
    "    Fa_distribution = DiscreteDistribution(F_A_node)\n",
    "    index = Fa_distribution.generate_index([], [])\n",
    "    Fa_distribution[index] = [0.85, 0.15]\n",
    "    F_A_node.set_dist(Fa_distribution)\n",
    "    # 3. Actual Temperature Probability Distribution\n",
    "    # P(T) = 0.2\n",
    "    T_distribution = DiscreteDistribution(T_node)\n",
    "    index = T_distribution.generate_index([],[])\n",
    "    T_distribution[index] = [0.8, 0.2]\n",
    "    T_node.set_dist(T_distribution)\n",
    "    # 4. Faulty Gauge Probability Distribution\n",
    "    # T | P(Fg | T)\n",
    "    # F | 0.5\n",
    "    # T | 0.8\n",
    "    dist = zeros([T_node.size(), F_G_node.size()], dtype=float32)\n",
    "    dist[0, :] = [.95,0.05]\n",
    "    dist[1, :] = [0.2,0.8]\n",
    "    Fg_distribution = ConditionalDiscreteDistribution(nodes=[T_node, F_G_node], table=dist)\n",
    "    F_G_node.set_dist(Fg_distribution)\n",
    "    # 5. Alarm Probability Distribution\n",
    "    # Fa | G | P(A | Fa, G)\n",
    "    # F  | F | 0.1\n",
    "    # F  | T | 0.9\n",
    "    # T  | F | 0.45\n",
    "    # T  | T | 0.55\n",
    "    dist = zeros([F_A_node.size(), G_node.size(), A_node.size()], dtype=float32)\n",
    "    dist[0,0,:] = [0.9, 0.1]\n",
    "    dist[0,1,:] = [0.1, 0.9]\n",
    "    dist[1,0,:] = [0.55, 0.45]\n",
    "    dist[1,1,:] = [0.45, 0.55]\n",
    "    A_distribution = ConditionalDiscreteDistribution(nodes=[F_A_node, G_node, A_node],\n",
    "                                                    table=dist)\n",
    "    A_node.set_dist(A_distribution)\n",
    "    \n",
    "    return bayes_net"
   ]
  },
  {
   "cell_type": "code",
   "execution_count": 15,
   "metadata": {
    "collapsed": false
   },
   "outputs": [
    {
     "name": "stdout",
     "output_type": "stream",
     "text": [
      "correct temperature distribution size\n",
      "correct temperature distribution\n",
      "correct faulty gauge distribution size\n",
      "correct faulty gauge distribution\n",
      "correct faulty alarm distribution size\n",
      "correct faulty alarm distribution\n",
      "correct gauge distribution size\n",
      "correct alarm distribution size\n"
     ]
    }
   ],
   "source": [
    "set_probability(power_plant)\n",
    "from probability_tests import probability_setup_test\n",
    "probability_setup_test(power_plant)"
   ]
  },
  {
   "cell_type": "markdown",
   "metadata": {},
   "source": [
    "1d: Probability calculations : Perform inference\n",
    "---\n",
    "10 points\n",
    "\n",
    "To finish up, you're going to perform inference on the network to calculate the following probabilities:\n",
    "\n",
    "- the marginal probability that the alarm sounds\n",
    "- the marginal probability that the gauge shows \"hot\"\n",
    "- the probability that the temperature is actually hot, given that the alarm sounds and the alarm and gauge are both working\n",
    "\n",
    "You'll fill out the \"get_prob\" functions to calculate the probabilities.\n",
    "\n",
    "Here's an example of how to do inference for the marginal probability of the \"faulty alarm\" node being True (assuming \"bayes_net\" is your network):\n",
    "\n",
    "    F_A_node = bayes_net.get_node_by_name('faulty alarm')\n",
    "    engine = JunctionTreeEngine(bayes_net)\n",
    "    Q = engine.marginal(F_A_node)[0]\n",
    "    index = Q.generate_index([True],range(Q.nDims))\n",
    "    prob = Q[index]\n",
    "  \n",
    "To compute the conditional probability, set the evidence variables before computing the marginal as seen below (here we're computing $P(A = false | F_A = true, T = False)$):\n",
    "\n",
    "    engine.evidence[F_A_node] = True\n",
    "    engine.evidence[T_node] = False\n",
    "    Q = engine.marginal(A_node)[0]\n",
    "    index = Q.generate_index([False],range(Q.nDims))\n",
    "    prob = Q[index]\n",
    "\n",
    "If you need to sanity-check to make sure you're doing inference correctly, you can run inference on one of the probabilities that we gave you in 1c. For instance, running inference on $P(T=true)$ should return 0.19999994 (i.e. almost 20%). You can also calculate the answers by hand to double-check."
   ]
  },
  {
   "cell_type": "code",
   "execution_count": 16,
   "metadata": {
    "collapsed": true
   },
   "outputs": [],
   "source": [
    "from Inference import JunctionTreeEngine\n",
    "def get_alarm_prob(bayes_net, alarm_rings):\n",
    "    \"\"\"Calculate the marginal \n",
    "    probability of the alarm \n",
    "    ringing (T/F) in the \n",
    "    power plant system.\"\"\"\n",
    "    # TODO: finish this function\n",
    "    A_node = bayes_net.get_node_by_name('alarm')\n",
    "    engine = JunctionTreeEngine(bayes_net)\n",
    "    Q = engine.marginal(A_node)[0]\n",
    "    index = Q.generate_index([alarm_rings], range(Q.nDims))\n",
    "    alarm_prob = Q[index]\n",
    "    return alarm_prob"
   ]
  },
  {
   "cell_type": "code",
   "execution_count": 17,
   "metadata": {
    "collapsed": true
   },
   "outputs": [],
   "source": [
    "def get_gauge_prob(bayes_net, gauge_hot):\n",
    "    \"\"\"Calculate the marginal\n",
    "    probability of the gauge \n",
    "    showing hot (T/F) in the \n",
    "    power plant system.\"\"\"\n",
    "    # TOOD: finish this function\n",
    "    G_node = bayes_net.get_node_by_name('gauge')\n",
    "    engine = JunctionTreeEngine(bayes_net)\n",
    "    Q = engine.marginal(G_node)[0]\n",
    "    index = Q.generate_index([gauge_hot], range(Q.nDims))\n",
    "    gauge_prob = Q[index]\n",
    "    return gauge_prob"
   ]
  },
  {
   "cell_type": "code",
   "execution_count": 18,
   "metadata": {
    "collapsed": true
   },
   "outputs": [],
   "source": [
    "def get_temperature_prob(bayes_net,temp_hot):\n",
    "    \"\"\"Calculate the probability of the \n",
    "    temperature being hot (T/F) in the\n",
    "    power plant system, given that the\n",
    "    alarm sounds and neither the gauge\n",
    "    nor alarm is faulty.\"\"\"\n",
    "    # TODO: finish this function\n",
    "    A_node = bayes_net.get_node_by_name('alarm')\n",
    "    Fg_node = bayes_net.get_node_by_name('faulty gauge')\n",
    "    Fa_node = bayes_net.get_node_by_name('faulty alarm')\n",
    "    T_node = bayes_net.get_node_by_name('temperature')\n",
    "    engine = JunctionTreeEngine(bayes_net)\n",
    "    engine.evidence[A_node] = True\n",
    "    engine.evidence[Fg_node] = False\n",
    "    engine.evidence[Fa_node] = False\n",
    "    Q = engine.marginal(T_node)[0]\n",
    "    index = Q.generate_index([temp_hot], range(Q.nDims))\n",
    "    temp_prob = Q[index]\n",
    "    return temp_prob"
   ]
  },
  {
   "cell_type": "code",
   "execution_count": 20,
   "metadata": {
    "collapsed": false
   },
   "outputs": [
    {
     "data": {
      "text/plain": [
       "0.2498"
      ]
     },
     "execution_count": 20,
     "metadata": {},
     "output_type": "execute_result"
    }
   ],
   "source": [
    "#You can use the following to print out the above computed values\n",
    "#get_alarm_prob(power_plant,True)\n",
    "#get_gauge_prob(power_plant,True)\n",
    "#get_temperature_prob(power_plant,True)"
   ]
  },
  {
   "cell_type": "markdown",
   "metadata": {},
   "source": [
    "Part 2: Sampling\n",
    "-----\n",
    "65 points total\n",
    "\n",
    "For the main exercise, consider the following scenario: \n",
    "\n",
    "There are five frisbee teams (T1, T2, T3,...,T5). A match is played between teams Ti and Ti+1 to give a total of 5 matches, i.e. T1vsT2, T2vsT3,...,T4vsT5,T5vsT1.\n",
    "Each team can either win, lose, or draw in a match. Each team has a fixed but unknown skill level, represented as an integer from 0 to 3. Each match's outcome is probabilistically proportional to the difference in skill level between the teams.\n",
    "\n",
    "We want to ESTIMATE the outcome of the last match (T5vsT1), given prior knowledge of other 4 matches. Rather than using inference, we will do so by sampling the network using two [Markov Chain Monte Carlo](http://www.statistics.com/papers/LESSON1_Notes_MCMC.pdf) models: Gibbs sampling (2c) and Metropolis - Hastings sampling (3a).\n",
    "\n",
    "But wait! First, work on a similar, smaller network! With just 3 teams (Part 2a, 2b). "
   ]
  },
  {
   "cell_type": "markdown",
   "metadata": {},
   "source": [
    "2a: Build a small network with for 3 teams.\n",
    "-----\n",
    "15 points\n",
    "\n",
    "For the first sub-part, consider a smaller network with 3 teams : the Airheads, the Buffoons, and the Clods (A, B and C for short). 3 total matches are played. \n",
    "Build a Bayes Net to represent the three teams and their influences on the match outcomes. Assume the following variable conventions:\n",
    "\n",
    "| variable name | description|\n",
    "|---------|:------:|\n",
    "|A| A's skill level|\n",
    "|B | B's skill level|\n",
    "|C | C's skill level|\n",
    "|AvB | the outcome of A vs. B <br> (0 = A wins, 1 = B wins, 2 = tie)|\n",
    "|BvC | the outcome of B vs. C <br> (0 = B wins, 1 = C wins, 2 = tie)|\n",
    "|CvA | the outcome of C vs. A <br> (0 = C wins, 1 = A wins, 2 = tie)|\n",
    "\n",
    "Assume that each team has the following prior distribution of skill levels:\n",
    "\n",
    "|skill level|P(skill level)|\n",
    "|----|:----:|\n",
    "|0|0.15|\n",
    "|1|0.45|\n",
    "|2|0.30|\n",
    "|3|0.10|\n",
    "\n",
    "In addition, assume that the differences in skill levels correspond to the following probabilities of winning:\n",
    "\n",
    "| skill difference <br> (T2 - T1) | T1 wins | T2 wins| Tie |\n",
    "|------------|----------|---|:--------:|\n",
    "|0|0.10|0.10|0.80|\n",
    "|1|0.20|0.60|0.20|\n",
    "|2|0.15|0.75|0.10|\n",
    "|3|0.05|0.90|0.05|"
   ]
  },
  {
   "cell_type": "code",
   "execution_count": 28,
   "metadata": {
    "collapsed": false
   },
   "outputs": [],
   "source": [
    "def get_game_network():\n",
    "    \"\"\"Create a Bayes Net representation of the game problem.\n",
    "    Name the nodes as \"A\",\"B\",\"C\",\"AvB\",\"BvC\" and \"CvA\".  \"\"\"\n",
    "    nodes = []\n",
    "    # TODO: fill this out\n",
    "    A_node = BayesNode(0, 4, name='A')\n",
    "    B_node = BayesNode(1, 4, name='B')\n",
    "    C_node = BayesNode(2, 4, name='C')\n",
    "    AvB_node = BayesNode(3, 3, name='AvB')\n",
    "    BvC_node = BayesNode(4, 3, name='BvC')\n",
    "    CvA_node = BayesNode(5, 3, name='CvA')\n",
    "    # Match A v B\n",
    "    AvB_node.add_parent(A_node)\n",
    "    AvB_node.add_parent(B_node)\n",
    "    A_node.add_child(AvB_node)\n",
    "    B_node.add_child(AvB_node)\n",
    "    # Match B v C\n",
    "    BvC_node.add_parent(B_node)\n",
    "    BvC_node.add_parent(C_node)\n",
    "    B_node.add_child(BvC_node)\n",
    "    C_node.add_child(BvC_node)\n",
    "    # Match C v A\n",
    "    CvA_node.add_parent(C_node)\n",
    "    CvA_node.add_parent(A_node)\n",
    "    C_node.add_child(CvA_node)\n",
    "    A_node.add_child(CvA_node)\n",
    "    \n",
    "    nodes = [A_node, B_node, C_node, AvB_node, BvC_node, CvA_node]\n",
    "    \n",
    "    prior_skill_dist = [0.15, 0.45, 0.3, 0.1]\n",
    "    \n",
    "    A_skill_dist = DiscreteDistribution(A_node)\n",
    "    index = A_skill_dist.generate_index([], [])\n",
    "    A_skill_dist[index] = prior_skill_dist\n",
    "    A_node.set_dist(A_skill_dist)\n",
    "    \n",
    "    B_skill_dist = DiscreteDistribution(B_node)\n",
    "    index = B_skill_dist.generate_index([], [])\n",
    "    B_skill_dist[index] = prior_skill_dist\n",
    "    B_node.set_dist(B_skill_dist)\n",
    "    \n",
    "    C_skill_dist = DiscreteDistribution(C_node)\n",
    "    index = C_skill_dist.generate_index([], [])\n",
    "    C_skill_dist[index] = prior_skill_dist\n",
    "    C_node.set_dist(C_skill_dist)\n",
    "    # Match Prob Distribution\n",
    "    # P(T1vT2 | T1, T2)\n",
    "    # T1 | T2 | T1   | T2   | Tie\n",
    "    # 0  | 0  | 0.1  | 0.1  | 0.8\n",
    "    # 0  | 1  | 0.2  | 0.6  | 0.2\n",
    "    # 0  | 2  | 0.15 | 0.75 | 0.1\n",
    "    # 0  | 3  | 0.05 | 0.9  | 0.05\n",
    "    # 1  | 0  | 0.6  | 0.2  | 0.2\n",
    "    # 1  | 1  | 0.1  | 0.1  | 0.8\n",
    "    # 1  | 2  | 0.2  | 0.6  | 0.2\n",
    "    # 1  | 3  | 0.15 | 0.75 | 0.1\n",
    "    # 2  | 0  | 0.75 | 0.15 | 0.1\n",
    "    # 2  | 1  | 0.6  | 0.2  | 0.2\n",
    "    # 2  | 2  | 0.1  | 0.1  | 0.8\n",
    "    # 2  | 3  | 0.2  | 0.6  | 0.2\n",
    "    # 3  | 0  | 0.9  | 0.05 | 0.05\n",
    "    # 3  | 1  | 0.75 | 0.15 | 0.1\n",
    "    # 3  | 2  | 0.6  | 0.2  | 0.2\n",
    "    # 3  | 3  | 0.1  | 0.1  | 0.8\n",
    "    match_dist = zeros([A_node.size(), B_node.size(), AvB_node.size()], dtype=float32)\n",
    "    match_dist[0, 0,:] = [0.1, 0.1, 0.8]\n",
    "    match_dist[0, 1,:] = [0.2, 0.6, 0.2]\n",
    "    match_dist[0, 2,:] = [0.15, 0.75, 0.1]\n",
    "    match_dist[0, 3,:] = [0.05, 0.9, 0.05]\n",
    "    match_dist[1, 0,:] = [0.6, 0.2, 0.2]\n",
    "    match_dist[1, 1,:] = [0.1, 0.1, 0.8]\n",
    "    match_dist[1, 2,:] = [0.2, 0.6, 0.2]\n",
    "    match_dist[1, 3,:] = [0.15, 0.75, 0.1]\n",
    "    match_dist[2, 0,:] = [0.75, 0.15, 0.1]\n",
    "    match_dist[2, 1,:] = [0.6, 0.2, 0.2]\n",
    "    match_dist[2, 2,:] = [0.1, 0.1, 0.8]\n",
    "    match_dist[2, 3,:] = [0.2, 0.6, 0.2]\n",
    "    match_dist[3, 0,:] = [0.9, 0.05, 0.05]\n",
    "    match_dist[3, 1,:] = [0.75, 0.15, 0.1]\n",
    "    match_dist[3, 2,:] = [0.6, 0.2, 0.2]\n",
    "    match_dist[3, 3,:] = [0.1, 0.1, 0.8]\n",
    "                                             \n",
    "    AvB_distribution = ConditionalDiscreteDistribution(nodes=[A_node, B_node, AvB_node],\n",
    "                                                    table=match_dist)\n",
    "    AvB_node.set_dist(AvB_distribution)\n",
    "    \n",
    "    BvC_distribution = ConditionalDiscreteDistribution(nodes=[B_node, C_node, BvC_node],\n",
    "                                                      table=match_dist)\n",
    "    BvC_node.set_dist(BvC_distribution)\n",
    "    \n",
    "    CvA_distribution = ConditionalDiscreteDistribution(nodes=[C_node, A_node, CvA_node],\n",
    "                                                      table=match_dist)\n",
    "    CvA_node.set_dist(CvA_distribution)\n",
    "                        \n",
    "    return BayesNet(nodes)"
   ]
  },
  {
   "cell_type": "code",
   "execution_count": 29,
   "metadata": {
    "collapsed": false
   },
   "outputs": [],
   "source": [
    "game_net = get_game_network()"
   ]
  },
  {
   "cell_type": "markdown",
   "metadata": {},
   "source": [
    "2b: Calculate posterior distribution for the 3rd match.\n",
    "----\n",
    "5 points\n",
    "\n",
    "Suppose that you know the following outcome of two of the three games: A beats B and A draws with C. Start by calculating the posterior distribution for the outcome of the BvC match in calculate_posterior(). Use EnumerationEngine ONLY. "
   ]
  },
  {
   "cell_type": "code",
   "execution_count": 34,
   "metadata": {
    "collapsed": true
   },
   "outputs": [],
   "source": [
    "from Inference import EnumerationEngine\n",
    "def calculate_posterior(games_net):\n",
    "    \"\"\"Calculate the posterior distribution of the BvC match given that A won against B and tied C. \n",
    "    Return a list of probabilities corresponding to win, loss and tie likelihood.\"\"\"\n",
    "    posterior = [0,0,0]\n",
    "    # TODO: finish this function\n",
    "    BvC_node = games_net.get_node_by_name('BvC')\n",
    "    AvB_node = games_net.get_node_by_name('AvB')\n",
    "    CvA_node = games_net.get_node_by_name('CvA')\n",
    "    engine = EnumerationEngine(games_net)\n",
    "    engine.evidence[AvB_node] = 0\n",
    "    engine.evidence[CvA_node] = 2\n",
    "    Q = engine.marginal(BvC_node)[0]\n",
    "    posterior = Q.table\n",
    "    return posterior"
   ]
  },
  {
   "cell_type": "code",
   "execution_count": 35,
   "metadata": {
    "collapsed": false
   },
   "outputs": [],
   "source": [
    "posterior = calculate_posterior(game_net)"
   ]
  },
  {
   "cell_type": "markdown",
   "metadata": {},
   "source": [
    "2c: Gibbs sampling\n",
    "---\n",
    "20 points\n",
    "\n",
    "Now suppose you have 5 teams. You don't necessarily need to create a new network. You can just use the probability distributions tables from the previous part. Although be careful while indexing them. Check Hints 1 and 2 below, for more details.\n",
    "\n",
    "Implement the Gibbs sampling algorithm, which is a special case of Metropolis-Hastings. You'll do this in Gibbs_sampling(), which takes a Bayesian network and initial state value as a parameter and returns a sample state drawn from the network's distribution. The method should just consist of a single iteration of the algorithm. If an initial value is not given, default to a state chosen uniformly at random from the possible states.\n",
    "\n",
    "Note: DO NOT USE the given inference engines to run the sampling method, since the whole point of sampling is to calculate marginals without running inference. \n",
    "\n",
    "\n",
    "     \"YOU WILL SCORE 0 POINTS ON THIS ASSIGNMENT IF YOU USE THE GIVEN INFERENCE ENGINES FOR THIS PART!!\"\n",
    "\n",
    "\n",
    "You may find [this](http://gandalf.psych.umn.edu/users/schrater/schrater_lab/courses/AI2/gibbs.pdf) helpful in understanding the basics of Gibbs sampling over Bayesian networks. (Make sure to identify what makes it different from Metropolis-Hastings.)"
   ]
  },
  {
   "cell_type": "markdown",
   "metadata": {},
   "source": [
    "Hint 1: in both Metropolis-Hastings and Gibbs sampling, you'll need access to each node's probability distribution and nodes. You can access these by calling : \n",
    "\n",
    "A.dist.table, AvB.dist.table :Returns the same numpy array that you provided when constructing the probability distribution.\n",
    "\n",
    "Hint 2: To use the AvB.dist.table (needed for joint probability calculations), you could do something like:\n",
    "\n",
    "    match_table = AvB.dist.table\n",
    "    p = match_table[initial_value[x-n],initial_value[(x+1-n)%n],initial_value[x]], \n",
    "\n",
    "where n = 5 and x = 5,6,..,9\n",
    "\n",
    "Hint 3: you'll also want to use the random package (e.g. random.randint()) for the probabilistic choices that sampling makes.\n",
    "\n",
    "Hint 4: in order to count the sample states later on, you'll want to make sure the sample that you return is hashable. One way to do this is by returning the sample as a tuple.\n"
   ]
  },
  {
   "cell_type": "code",
   "execution_count": 81,
   "metadata": {
    "collapsed": true
   },
   "outputs": [],
   "source": [
    "import random\n",
    "def Gibbs_sampler(games_net, initial_value, number_of_teams=5, evidence=None):\n",
    "    \"\"\"Complete a single iteration of the Gibbs sampling algorithm \n",
    "    given a Bayesian network and an initial state value. \n",
    "    \n",
    "    initial_value is a list of length 10 where: \n",
    "    index 0-4: represent skills of teams T1, .. ,T5 (values lie in [0,3] inclusive)\n",
    "    index 5-9: represent results of matches T1vT2,...,T5vT1 (values lie in [0,2] inclusive)\n",
    "    \n",
    "    Returns the new state sampled from the probability distribution as a tuple of length 10. \n",
    "    Return the sample as a tuple.\n",
    "    \n",
    "    You will need the evidence variable for part 2d, for now there is None. \n",
    "    You can implement this any way you want (i.e as a list/tuple of evidence indices) \n",
    "    \"\"\"\n",
    "    A= games_net.get_node_by_name(\"A\")      \n",
    "    AvB= games_net.get_node_by_name(\"AvB\")\n",
    "    match_table = AvB.dist.table\n",
    "    team_table = A.dist.table\n",
    "    sample = tuple(initial_value)\n",
    "    # TODO: finish this function\n",
    "    # Generate uniform random state if initial_value is omitted\n",
    "    if initial_value is None or len(initial_value) == 0:\n",
    "        if initial_value is None:\n",
    "            initial_value = []\n",
    "        for i in range(2*number_of_teams):\n",
    "            if i < number_of_teams:\n",
    "                initial_value.append(random.randint(0, 3))\n",
    "            else:\n",
    "                initial_value.append(random.randint(0, 2))\n",
    "    # Choose non evidence variable at random \n",
    "    index = random.randint(0, 2*number_of_teams - 1)\n",
    "    while index in evidence:\n",
    "        index = random.randint(0, 2*number_of_teams - 1)\n",
    "    # Sample choosen variable\n",
    "    if index < number_of_teams:\n",
    "        value = np.random.choice([0, 1, 2, 3], p=team_table)\n",
    "        initial_value[index] = value\n",
    "    else:\n",
    "        p_result = match_table[initial_value[index - number_of_teams], \n",
    "                               initial_value[(index + 1 - number_of_teams) % number_of_teams]]\n",
    "        value = np.random.choice([0, 1, 2], p=p_result)\n",
    "        initial_value[index] = value\n",
    "    sample = tuple(initial_value)\n",
    "    return sample"
   ]
  },
  {
   "cell_type": "code",
   "execution_count": 82,
   "metadata": {
    "collapsed": false
   },
   "outputs": [],
   "source": [
    "# arbitrary initial state for the game system :\n",
    "# 5 for teams T1,T2,...,T5\n",
    "# 5 for matches T1vT2,T2vT3,....,T4vT5,T5vT1\n",
    "n = 5\n",
    "initial_state = [0]*(2*n)\n",
    "sample = Gibbs_sampler(game_net, initial_state, 5, [])"
   ]
  },
  {
   "cell_type": "markdown",
   "metadata": {},
   "source": [
    "2d: Iterations to converge\n",
    "----\n",
    "20 points\n",
    "\n",
    "Suppose that you know the outcomes of 4 of the 5 matches.\n",
    "\n",
    "Estimate the likelihood of different outcomes for the 5 match (T5vT1) by running Gibbs sampling until it converges to a stationary distribution. We'll say that the sampler has converged when, for \"N\" successive iterations selected, the difference in expected outcome for the 5th match differs from the previous estimated outcome by less than \"delta\".\n",
    "It is up to you to set the parameters: N, delta. \n",
    "N is a positive integer. delta goes from (0,1). \n",
    "For the most stable convergence, delta should be very small. N could typically take values like 10,20,...,100 or even more.\n",
    "\n",
    "Note: Just measure how many iterations it takes for Gibbs to converge to a stable distribution over the posterior, (this stable distribution might not be close to the actual posterior.. so try tuning those parameters). This is meant to show you that even though sampling methods are fast, their accuracy isn't perfect.\n",
    "\n",
    "Also https://en.wikipedia.org/wiki/Gibbs_sampling might be helpful to help decide your parameters and understand the necessity of the burn-in period."
   ]
  },
  {
   "cell_type": "code",
   "execution_count": 557,
   "metadata": {
    "collapsed": false
   },
   "outputs": [],
   "source": [
    "def converge_count_Gibbs(bayes_net, initial_state, match_results, number_of_teams=5):\n",
    "    \"\"\"Calculate number of iterations for Gibbs sampling to converge to a stationary distribution. \n",
    "    And return the likelihoods for the last match. \"\"\"\n",
    "    prob_win = 0.0\n",
    "    prob_loss = 0.0\n",
    "    prob_tie = 0.0\n",
    "    posterior = [prob_win,prob_loss,prob_tie]\n",
    "    # TODO: finish this function\n",
    "    N = 10000\n",
    "    delta = 0.1\n",
    "    # Indicies of evidence variables\n",
    "    evidence = (5, 6, 7, 8)\n",
    "    match1 = 5\n",
    "    match2 = 6\n",
    "    match3 = 7\n",
    "    match4 = 8\n",
    "    match5 = 9\n",
    "    win = 0\n",
    "    loss = 1\n",
    "    tie = 2\n",
    "    outcome_count = {win: 0, loss: 0, tie: 0}\n",
    "    burn_in = 1000\n",
    "    nth_sample = 20\n",
    "    # Initialize initial state if necessary\n",
    "    if initial_state is None or len(initial_state) == 0:\n",
    "        if initial_state is None:\n",
    "            initial_state = []\n",
    "        for i in range(0, number_of_teams):\n",
    "            initial_state.append(0)\n",
    "        initial_state = initial_state + match_results\n",
    "        for i in range(len(initial_state), 2*number_of_teams):\n",
    "            initial_state.append(0)\n",
    "    else:\n",
    "        initial_state[match1] = match_results[match1 - number_of_teams]\n",
    "        initial_state[match2] = match_results[match2 - number_of_teams]\n",
    "        initial_state[match3] = match_results[match3 - number_of_teams]\n",
    "        initial_state[match4] = match_results[match4 - number_of_teams]\n",
    "    # Collect samples after burn in\n",
    "    for count in range(1, N + 1):\n",
    "        sample = Gibbs_sampler(bayes_net,\n",
    "                               initial_state,\n",
    "                               number_of_teams,\n",
    "                               evidence)\n",
    "        if count > burn_in and count % nth_sample == 0:\n",
    "            outcome_count[sample[match5]] += 1\n",
    "            total_samples = float(outcome_count[win] + outcome_count[loss] + outcome_count[tie])\n",
    "            prob_win =  outcome_count[win] / total_samples\n",
    "            prob_loss = outcome_count[loss] / total_samples\n",
    "            prob_tie = outcome_count[tie] / total_samples\n",
    "            if (abs(prob_win - posterior[win]) < delta and abs(prob_win - posterior[win]) > 0) and \\\n",
    "               (abs(prob_loss - posterior[loss]) < delta and abs(prob_loss - posterior[loss]) > 0) and \\\n",
    "               (abs(prob_tie - posterior[tie]) < delta and abs(prob_tie - posterior[tie]) >0):\n",
    "                return count, [prob_win, prob_loss, prob_tie]\n",
    "            posterior = [prob_win, prob_loss, prob_tie]\n",
    "        initial_state = list(sample)\n",
    "    return count,posterior"
   ]
  },
  {
   "cell_type": "code",
   "execution_count": 558,
   "metadata": {
    "collapsed": false,
    "scrolled": false
   },
   "outputs": [
    {
     "data": {
      "text/plain": [
       "(1160, [0.375, 0.375, 0.25])"
      ]
     },
     "execution_count": 558,
     "metadata": {},
     "output_type": "execute_result"
    }
   ],
   "source": [
    "from random import randint,uniform\n",
    "\n",
    "# Now for an initial_state:\n",
    "match_results = [0,0,1,1]\n",
    "converge_count_Gibbs(game_net, initial_state, match_results, number_of_teams=5)"
   ]
  },
  {
   "cell_type": "markdown",
   "metadata": {},
   "source": [
    "# 2e: Theoretical follow-up\n",
    "---\n",
    "5 points\n",
    "\n",
    "For n teams, using inference by enumeration, how does the complexity of predicting the last match vary with $n$? \n",
    "\n",
    "Fill in complexity_question() to answer, using big-O notation. For example, write 'O(n^2)' for second-degree polynomial runtime."
   ]
  },
  {
   "cell_type": "code",
   "execution_count": 522,
   "metadata": {
    "collapsed": true
   },
   "outputs": [],
   "source": [
    "def complexity_question():\n",
    "    # TODO: write an expression for complexity\n",
    "    complexity = ''\n",
    "    return complexity"
   ]
  },
  {
   "cell_type": "markdown",
   "metadata": {},
   "source": [
    "3a: Metropolis-Hastings sampling\n",
    "---\n",
    "20 points\n",
    "\n",
    "Now you will implement the Metropolis-Hastings algorithm, which is another method for estimating a probability distribution. You'll do this in MH_sampling(), which takes a Bayesian network and initial state as a parameter and returns a sample state drawn from the network's distribution. The method should just perform a single iteration of the algorithm. If an initial value is not given, default to a state chosen uniformly at random from the possible states.\n",
    "\n",
    "The general idea is to build an approximation of a latent probability distribution by repeatedly generating a \"candidate\" value for each random variable in the system, and then probabilistically accepting or rejecting the candidate value based on an underlying acceptance function. These [slides](https://www.cs.cmu.edu/~scohen/psnlp-lecture6.pdf) provide a nice intro, and this [cheat sheet](http://www.bcs.rochester.edu/people/robbie/jacobslab/cheat_sheet/MetropolisHastingsSampling.pdf) provides an explanation of the details.\n",
    "\n",
    "Note: DO NOT USE the given inference engines to run the sampling method, since the whole point of sampling is to calculate marginals without running inference. \n",
    "\n",
    "\n",
    "     \"YOU WILL SCORE 0 POINTS IF YOU USE THE GIVEN INFERENCE ENGINES FOR THIS PART!!\"\n"
   ]
  },
  {
   "cell_type": "code",
   "execution_count": null,
   "metadata": {
    "collapsed": true
   },
   "outputs": [],
   "source": [
    "def MH_sampler(games_net, initial_value, n=5, evidence=None):\n",
    "    \"\"\"Complete a single iteration of the MH sampling algorithm given a Bayesian network and an initial state value. \n",
    "    initial_value is a list of length 10 where: \n",
    "    index 0-4: represent skills of teams T1, .. ,T5 (values lie in [0,3] inclusive)\n",
    "    index 5-9: represent results of matches T1vT2,...,T5vT1 (values lie in [0,2] inclusive)\n",
    "    \n",
    "    Returns the new state sampled from the probability distribution as a tuple of length 10. \n",
    "    \"\"\"\n",
    "    A= games_net.get_node_by_name(\"A\")      \n",
    "    AvB= games_net.get_node_by_name(\"AvB\")\n",
    "    match_table = AvB.dist.table\n",
    "    team_table = A.dist.table\n",
    "    sample = tuple(initial_value)    \n",
    "    # TODO: finish this function\n",
    "    \n",
    "    return sample"
   ]
  },
  {
   "cell_type": "code",
   "execution_count": null,
   "metadata": {
    "collapsed": true
   },
   "outputs": [],
   "source": [
    "# arbitrary initial state for the game system\n",
    "sample = MH_sampler(game_net, initial_state, n)"
   ]
  },
  {
   "cell_type": "code",
   "execution_count": null,
   "metadata": {
    "collapsed": true
   },
   "outputs": [],
   "source": [
    "def converge_count_MH(bayes_net, initial_state, match_results, number_of_teams=5):\n",
    "    \"\"\"Calculate number of iterations for MH sampling to converge to any stationary distribution. \n",
    "    And return the likelihoods for the last match. \"\"\"\n",
    "    count=0\n",
    "    prob_win = 0.0\n",
    "    prob_loss = 0.0\n",
    "    prob_tie = 0.0\n",
    "    posterior = [prob_win,prob_loss,prob_tie]\n",
    "    # TODO: finish this function\n",
    "    \n",
    "    return count,posterior"
   ]
  },
  {
   "cell_type": "code",
   "execution_count": null,
   "metadata": {
    "collapsed": true
   },
   "outputs": [],
   "source": [
    "converge_count_MH(game_net, initial_state, match_results, n)"
   ]
  },
  {
   "cell_type": "markdown",
   "metadata": {},
   "source": [
    "3b: Compare the two sampling performances\n",
    "---\n",
    "10 points\n",
    "\n",
    "Which algorithm converges more quickly? By approximately what factor? For instance, if Metropolis-Hastings takes twice as many iterations to converge as Gibbs sampling, you'd say that it converged slower by a factor of 2. Fill in sampling_question() to answer both parts."
   ]
  },
  {
   "cell_type": "code",
   "execution_count": null,
   "metadata": {
    "collapsed": true
   },
   "outputs": [],
   "source": [
    "def compare_sampling(bayes_net,initial_state, match_results, n):\n",
    "    \"\"\"Compare Gibbs and Metropolis-Hastings sampling by calculating how long it takes for each method to converge \n",
    "    to the provided posterior.\"\"\"\n",
    "    Gibbs_Count = 0\n",
    "    MH_count = 0\n",
    "    # TODO: finish this function\n",
    "    \n",
    "    \n",
    "    return Gibbs_count, MH_count"
   ]
  },
  {
   "cell_type": "code",
   "execution_count": null,
   "metadata": {
    "collapsed": true
   },
   "outputs": [],
   "source": [
    "initial_state = initial_value\n",
    "compare_sampling(game_net,initial_state, n)"
   ]
  },
  {
   "cell_type": "code",
   "execution_count": null,
   "metadata": {
    "collapsed": true
   },
   "outputs": [],
   "source": [
    "def sampling_question():\n",
    "    \"\"\"Question about sampling performance.\"\"\"\n",
    "    # TODO: assign value to choice and factor\n",
    "    choice = 2\n",
    "    options = ['Gibbs','Metropolis-Hastings']\n",
    "    factor = 0\n",
    "    return options[choice], factor"
   ]
  }
 ],
 "metadata": {
  "anaconda-cloud": {},
  "kernelspec": {
   "display_name": "Python [Root]",
   "language": "python",
   "name": "Python [Root]"
  },
  "language_info": {
   "codemirror_mode": {
    "name": "ipython",
    "version": 2
   },
   "file_extension": ".py",
   "mimetype": "text/x-python",
   "name": "python",
   "nbconvert_exporter": "python",
   "pygments_lexer": "ipython2",
   "version": "2.7.12"
  }
 },
 "nbformat": 4,
 "nbformat_minor": 0
}
